{
 "cells": [
  {
   "cell_type": "code",
   "execution_count": 226,
   "id": "df687560-7c86-4a1f-b100-5d7171c9479d",
   "metadata": {},
   "outputs": [
    {
     "data": {
      "text/plain": [
       "[{'name': 'john doe',\n",
       "  'email': 'JOHN@example.com',\n",
       "  'phone_number': '123-456-7890',\n",
       "  'address': '123, Main St, New York, NY 10001'},\n",
       " {'name': 'jane smith',\n",
       "  'email': 'Jane.Smith@Email.com',\n",
       "  'phone_number': '(123) 456 7890',\n",
       "  'address': '456, Elm St, Los Angeles, CA 90001'},\n",
       " {'name': 'john doe',\n",
       "  'email': 'john@example.com',\n",
       "  'phone_number': '1234567890',\n",
       "  'address': '123, Main St, New York, NY 10001'},\n",
       " {'name': 'john doe',\n",
       "  'email': 'john@example.com',\n",
       "  'phone_number': '1234567890',\n",
       "  'address': '123, Main St, New York, NY 10001'},\n",
       " {'name': 'Amit Sharma',\n",
       "  'email': 'amit.sharma@example.com',\n",
       "  'phone_number': '9876543210',\n",
       "  'address': '415, MG Road, Bangalore, KA 560001'},\n",
       " {'name': 'jane smith',\n",
       "  'email': 'Jane.Smith@Email.com',\n",
       "  'phone_number': '(123) 456 7890',\n",
       "  'address': '456, Elm St, Los Angeles, CA 90001'},\n",
       " {'name': 'Ravi Kumar',\n",
       "  'email': 'RAVI.kumar@example.com',\n",
       "  'phone_number': '9123456789',\n",
       "  'address': '202, Trident Tower, Mumbai, MH 400018'},\n",
       " {'name': 'jane smith',\n",
       "  'email': 'Jane.Smith@Email.com',\n",
       "  'phone_number': '(123) 456 7890',\n",
       "  'address': '456, Elm St, Los Angeles, CA 90001'}]"
      ]
     },
     "execution_count": 226,
     "metadata": {},
     "output_type": "execute_result"
    }
   ],
   "source": [
    "import json\n",
    "\n",
    "data = [\n",
    "    {\"name\": \"john doe\", \"email\": \"JOHN@example.com\", \"phone_number\": \"123-456-7890\", \"address\": \"123, Main St, New York, NY 10001\"},\n",
    "    {\"name\": \"jane smith\", \"email\": \"Jane.Smith@Email.com\", \"phone_number\": \"(123) 456 7890\", \"address\": \"456, Elm St, Los Angeles, CA 90001\"},\n",
    "    {\"name\": \"john doe\", \"email\": \"john@example.com\", \"phone_number\": \"1234567890\", \"address\": \"123, Main St, New York, NY 10001\"},\n",
    "    {\"name\": \"john doe\", \"email\": \"john@example.com\", \"phone_number\": \"1234567890\", \"address\": \"123, Main St, New York, NY 10001\"},\n",
    "    {\"name\": \"Amit Sharma\",\"email\": \"amit.sharma@example.com\",\"phone_number\": \"9876543210\",\"address\": \"415, MG Road, Bangalore, KA 560001\"},\n",
    "    {\"name\": \"jane smith\", \"email\": \"Jane.Smith@Email.com\", \"phone_number\": \"(123) 456 7890\", \"address\": \"456, Elm St, Los Angeles, CA 90001\"},\n",
    "    {\"name\": \"Ravi Kumar\",\"email\": \"RAVI.kumar@example.com\",\"phone_number\": \"9123456789\",\"address\": \"202, Trident Tower, Mumbai, MH 400018\"},\n",
    "    {\"name\": \"jane smith\", \"email\": \"Jane.Smith@Email.com\", \"phone_number\": \"(123) 456 7890\", \"address\": \"456, Elm St, Los Angeles, CA 90001\"},\n",
    "    # Add more records as needed with duplicates and formatting issues\n",
    "]\n",
    "\n",
    "with open('data.json', 'w') as json_file:\n",
    "    json.dump(data, json_file)\n",
    "data"
   ]
  },
  {
   "cell_type": "code",
   "execution_count": 228,
   "id": "c11de50f-63a4-4907-96b0-b4ff7fc76a12",
   "metadata": {},
   "outputs": [
    {
     "data": {
      "text/plain": [
       "[{'name': 'john doe',\n",
       "  'email': 'JOHN@example.com',\n",
       "  'phone_number': '123-456-7890',\n",
       "  'address': '123, Main St, New York, NY 10001'},\n",
       " {'name': 'jane smith',\n",
       "  'email': 'Jane.Smith@Email.com',\n",
       "  'phone_number': '(123) 456 7890',\n",
       "  'address': '456, Elm St, Los Angeles, CA 90001'},\n",
       " {'name': 'john doe',\n",
       "  'email': 'john@example.com',\n",
       "  'phone_number': '1234567890',\n",
       "  'address': '123, Main St, New York, NY 10001'},\n",
       " {'name': 'john doe',\n",
       "  'email': 'john@example.com',\n",
       "  'phone_number': '1234567890',\n",
       "  'address': '123, Main St, New York, NY 10001'},\n",
       " {'name': 'Amit Sharma',\n",
       "  'email': 'amit.sharma@example.com',\n",
       "  'phone_number': '9876543210',\n",
       "  'address': '415, MG Road, Bangalore, KA 560001'},\n",
       " {'name': 'jane smith',\n",
       "  'email': 'Jane.Smith@Email.com',\n",
       "  'phone_number': '(123) 456 7890',\n",
       "  'address': '456, Elm St, Los Angeles, CA 90001'},\n",
       " {'name': 'Ravi Kumar',\n",
       "  'email': 'RAVI.kumar@example.com',\n",
       "  'phone_number': '9123456789',\n",
       "  'address': '202, Trident Tower, Mumbai, MH 400018'},\n",
       " {'name': 'jane smith',\n",
       "  'email': 'Jane.Smith@Email.com',\n",
       "  'phone_number': '(123) 456 7890',\n",
       "  'address': '456, Elm St, Los Angeles, CA 90001'}]"
      ]
     },
     "execution_count": 228,
     "metadata": {},
     "output_type": "execute_result"
    }
   ],
   "source": [
    "with open(\"data.json\", \"r\") as file:\n",
    "    data = json.load(file)\n",
    "\n",
    "data"
   ]
  },
  {
   "cell_type": "code",
   "execution_count": 230,
   "id": "aa6537b5-5a27-42f4-b5fd-2e6d9bcd9543",
   "metadata": {},
   "outputs": [
    {
     "data": {
      "text/plain": [
       "[{'name': 'john doe',\n",
       "  'email': 'john@example.com',\n",
       "  'phone_number': '123-456-7890',\n",
       "  'address': '123, Main St, New York, NY 10001'},\n",
       " {'name': 'jane smith',\n",
       "  'email': 'jane.smith@email.com',\n",
       "  'phone_number': '(123) 456 7890',\n",
       "  'address': '456, Elm St, Los Angeles, CA 90001'},\n",
       " {'name': 'john doe',\n",
       "  'email': 'john@example.com',\n",
       "  'phone_number': '1234567890',\n",
       "  'address': '123, Main St, New York, NY 10001'},\n",
       " {'name': 'john doe',\n",
       "  'email': 'john@example.com',\n",
       "  'phone_number': '1234567890',\n",
       "  'address': '123, Main St, New York, NY 10001'},\n",
       " {'name': 'Amit Sharma',\n",
       "  'email': 'amit.sharma@example.com',\n",
       "  'phone_number': '9876543210',\n",
       "  'address': '415, MG Road, Bangalore, KA 560001'},\n",
       " {'name': 'jane smith',\n",
       "  'email': 'jane.smith@email.com',\n",
       "  'phone_number': '(123) 456 7890',\n",
       "  'address': '456, Elm St, Los Angeles, CA 90001'},\n",
       " {'name': 'Ravi Kumar',\n",
       "  'email': 'ravi.kumar@example.com',\n",
       "  'phone_number': '9123456789',\n",
       "  'address': '202, Trident Tower, Mumbai, MH 400018'},\n",
       " {'name': 'jane smith',\n",
       "  'email': 'jane.smith@email.com',\n",
       "  'phone_number': '(123) 456 7890',\n",
       "  'address': '456, Elm St, Los Angeles, CA 90001'}]"
      ]
     },
     "execution_count": 230,
     "metadata": {},
     "output_type": "execute_result"
    }
   ],
   "source": [
    "for i in data:\n",
    "    i[\"email\"] = i[\"email\"].lower()\n",
    "\n",
    "data"
   ]
  },
  {
   "cell_type": "code",
   "execution_count": 216,
   "id": "d3ea3680-4db6-4957-9c3f-392e01ecbd07",
   "metadata": {},
   "outputs": [
    {
     "data": {
      "text/plain": [
       "[{'name': 'John Doe',\n",
       "  'email': 'john@example.com',\n",
       "  'phone_number': '123-456-7890',\n",
       "  'address': '123, Main St, New York, NY 10001'},\n",
       " {'name': 'Jane Smith',\n",
       "  'email': 'jane.smith@email.com',\n",
       "  'phone_number': '(123) 456 7890',\n",
       "  'address': '456, Elm St, Los Angeles, CA 90001'},\n",
       " {'name': 'John Doe',\n",
       "  'email': 'john@example.com',\n",
       "  'phone_number': '1234567890',\n",
       "  'address': '123, Main St, New York, NY 10001'},\n",
       " {'name': 'John Doe',\n",
       "  'email': 'john@example.com',\n",
       "  'phone_number': '1234567890',\n",
       "  'address': '123, Main St, New York, NY 10001'},\n",
       " {'name': 'Amit Sharma',\n",
       "  'email': 'amit.sharma@example.com',\n",
       "  'phone_number': '9876543210',\n",
       "  'address': '415, MG Road, Bangalore, KA 560001'},\n",
       " {'name': 'Jane Smith',\n",
       "  'email': 'jane.smith@email.com',\n",
       "  'phone_number': '(123) 456 7890',\n",
       "  'address': '456, Elm St, Los Angeles, CA 90001'},\n",
       " {'name': 'Ravi Kumar',\n",
       "  'email': 'ravi.kumar@example.com',\n",
       "  'phone_number': '9123456789',\n",
       "  'address': '202, Trident Tower, Mumbai, MH 400018'},\n",
       " {'name': 'Jane Smith',\n",
       "  'email': 'jane.smith@email.com',\n",
       "  'phone_number': '(123) 456 7890',\n",
       "  'address': '456, Elm St, Los Angeles, CA 90001'}]"
      ]
     },
     "execution_count": 216,
     "metadata": {},
     "output_type": "execute_result"
    }
   ],
   "source": [
    "for i in data:\n",
    "    i[\"name\"] = i[\"name\"].title()\n",
    "data"
   ]
  },
  {
   "cell_type": "code",
   "execution_count": 232,
   "id": "b1bdbd8b-7bd1-473a-99d9-8601d57cf47e",
   "metadata": {},
   "outputs": [
    {
     "data": {
      "text/plain": [
       "[{'name': 'john doe',\n",
       "  'email': 'john@example.com',\n",
       "  'phone_number': '(123) 456-7890',\n",
       "  'address': '123, Main St, New York, NY 10001'},\n",
       " {'name': 'jane smith',\n",
       "  'email': 'jane.smith@email.com',\n",
       "  'phone_number': '(123) 456-7890',\n",
       "  'address': '456, Elm St, Los Angeles, CA 90001'},\n",
       " {'name': 'john doe',\n",
       "  'email': 'john@example.com',\n",
       "  'phone_number': '(123) 456-7890',\n",
       "  'address': '123, Main St, New York, NY 10001'},\n",
       " {'name': 'john doe',\n",
       "  'email': 'john@example.com',\n",
       "  'phone_number': '(123) 456-7890',\n",
       "  'address': '123, Main St, New York, NY 10001'},\n",
       " {'name': 'Amit Sharma',\n",
       "  'email': 'amit.sharma@example.com',\n",
       "  'phone_number': '(987) 654-3210',\n",
       "  'address': '415, MG Road, Bangalore, KA 560001'},\n",
       " {'name': 'jane smith',\n",
       "  'email': 'jane.smith@email.com',\n",
       "  'phone_number': '(123) 456-7890',\n",
       "  'address': '456, Elm St, Los Angeles, CA 90001'},\n",
       " {'name': 'Ravi Kumar',\n",
       "  'email': 'ravi.kumar@example.com',\n",
       "  'phone_number': '(912) 345-6789',\n",
       "  'address': '202, Trident Tower, Mumbai, MH 400018'},\n",
       " {'name': 'jane smith',\n",
       "  'email': 'jane.smith@email.com',\n",
       "  'phone_number': '(123) 456-7890',\n",
       "  'address': '456, Elm St, Los Angeles, CA 90001'}]"
      ]
     },
     "execution_count": 232,
     "metadata": {},
     "output_type": "execute_result"
    }
   ],
   "source": [
    "import re\n",
    "def clean_phone_number(phone):\n",
    "    d = re.sub(r'\\D', '',phone)\n",
    "\n",
    "    if(len(d) == 11):\n",
    "        d = d[1:]\n",
    "    if(len(d)==12):\n",
    "        d = d[2:]\n",
    "\n",
    "    if(len(d)==10):\n",
    "        return f\"({d[:3]}) {d[3:6]}-{d[6:]}\"\n",
    "    else:\n",
    "        return \"Invalid String\"\n",
    "    \n",
    "for i in data:\n",
    "    i['phone_number'] = clean_phone_number(i['phone_number'])\n",
    "data"
   ]
  },
  {
   "cell_type": "code",
   "execution_count": 234,
   "id": "162ecf33-32b2-4824-867b-46c1c8e3545c",
   "metadata": {},
   "outputs": [
    {
     "data": {
      "text/plain": [
       "[{'name': 'john doe',\n",
       "  'email': 'john@example.com',\n",
       "  'phone_number': '(123) 456-7890',\n",
       "  'address': '123, Main St, New York, NY 10001'},\n",
       " {'name': 'jane smith',\n",
       "  'email': 'jane.smith@email.com',\n",
       "  'phone_number': '(123) 456-7890',\n",
       "  'address': '456, Elm St, Los Angeles, CA 90001'},\n",
       " {'name': 'Amit Sharma',\n",
       "  'email': 'amit.sharma@example.com',\n",
       "  'phone_number': '(987) 654-3210',\n",
       "  'address': '415, MG Road, Bangalore, KA 560001'},\n",
       " {'name': 'Ravi Kumar',\n",
       "  'email': 'ravi.kumar@example.com',\n",
       "  'phone_number': '(912) 345-6789',\n",
       "  'address': '202, Trident Tower, Mumbai, MH 400018'}]"
      ]
     },
     "execution_count": 234,
     "metadata": {},
     "output_type": "execute_result"
    }
   ],
   "source": [
    "data = list({frozenset(i.items()):i for i in data}.values())\n",
    "data"
   ]
  },
  {
   "cell_type": "code",
   "execution_count": 236,
   "id": "bee2fa32-288e-4208-9277-2841081fd133",
   "metadata": {},
   "outputs": [
    {
     "data": {
      "text/plain": [
       "[{'name': 'john doe',\n",
       "  'email': 'john@example.com',\n",
       "  'phone_number': '(123) 456-7890',\n",
       "  'address': {'street': '123, Main St',\n",
       "   'city': 'New York',\n",
       "   'state': 'NY',\n",
       "   'zip_code': '10001'}},\n",
       " {'name': 'jane smith',\n",
       "  'email': 'jane.smith@email.com',\n",
       "  'phone_number': '(123) 456-7890',\n",
       "  'address': {'street': '456, Elm St',\n",
       "   'city': 'Los Angeles',\n",
       "   'state': 'CA',\n",
       "   'zip_code': '90001'}},\n",
       " {'name': 'Amit Sharma',\n",
       "  'email': 'amit.sharma@example.com',\n",
       "  'phone_number': '(987) 654-3210',\n",
       "  'address': {'street': '', 'city': '', 'state': '', 'zip_code': ''}},\n",
       " {'name': 'Ravi Kumar',\n",
       "  'email': 'ravi.kumar@example.com',\n",
       "  'phone_number': '(912) 345-6789',\n",
       "  'address': {'street': '', 'city': '', 'state': '', 'zip_code': ''}}]"
      ]
     },
     "execution_count": 236,
     "metadata": {},
     "output_type": "execute_result"
    }
   ],
   "source": [
    "import re\n",
    "\n",
    "def split_add(address):\n",
    "    match = re.match(r\"^(.*),\\s*(.*),\\s*([A-Z]{2})\\s*(\\d{5})$\", address)\n",
    "    if match:\n",
    "        street, city, state, zip_code = match.groups()\n",
    "        return {\n",
    "            \"street\": street.strip(),\n",
    "            \"city\": city.strip(),\n",
    "            \"state\": state.strip(),\n",
    "            \"zip_code\": zip_code.strip(),\n",
    "        }\n",
    "    else:\n",
    "        return {\"street\": \"\", \"city\": \"\", \"state\": \"\", \"zip_code\": \"\"}\n",
    "\n",
    "for i in data:\n",
    "    i['address'] = split_add(i['address'])\n",
    "\n",
    "data"
   ]
  },
  {
   "cell_type": "code",
   "execution_count": 224,
   "id": "51cad5ac-94bc-485b-af5d-31e4092751ff",
   "metadata": {},
   "outputs": [],
   "source": [
    "import json\n",
    "with open(\"data.json\", \"w\") as file:\n",
    "    json.dump(data, file)"
   ]
  },
  {
   "cell_type": "code",
   "execution_count": 238,
   "id": "60ca9c9b-cc18-44b9-92a3-b288d7a0fae9",
   "metadata": {},
   "outputs": [
    {
     "data": {
      "text/plain": [
       "[{'name': 'john doe',\n",
       "  'email': 'john@example.com',\n",
       "  'phone_number': '(123) 456-7890',\n",
       "  'address': {'street': '123, Main St',\n",
       "   'city': 'New York',\n",
       "   'state': 'NY',\n",
       "   'zip_code': '10001'}},\n",
       " {'name': 'jane smith',\n",
       "  'email': 'jane.smith@email.com',\n",
       "  'phone_number': '(123) 456-7890',\n",
       "  'address': {'street': '456, Elm St',\n",
       "   'city': 'Los Angeles',\n",
       "   'state': 'CA',\n",
       "   'zip_code': '90001'}},\n",
       " {'name': 'Amit Sharma',\n",
       "  'email': 'amit.sharma@example.com',\n",
       "  'phone_number': '(987) 654-3210',\n",
       "  'address': {'street': '', 'city': '', 'state': '', 'zip_code': ''}},\n",
       " {'name': 'Ravi Kumar',\n",
       "  'email': 'ravi.kumar@example.com',\n",
       "  'phone_number': '(912) 345-6789',\n",
       "  'address': {'street': '', 'city': '', 'state': '', 'zip_code': ''}}]"
      ]
     },
     "execution_count": 238,
     "metadata": {},
     "output_type": "execute_result"
    }
   ],
   "source": [
    "data"
   ]
  }
 ],
 "metadata": {
  "kernelspec": {
   "display_name": "Python 3 (ipykernel)",
   "language": "python",
   "name": "python3"
  },
  "language_info": {
   "codemirror_mode": {
    "name": "ipython",
    "version": 3
   },
   "file_extension": ".py",
   "mimetype": "text/x-python",
   "name": "python",
   "nbconvert_exporter": "python",
   "pygments_lexer": "ipython3",
   "version": "3.12.4"
  }
 },
 "nbformat": 4,
 "nbformat_minor": 5
}
